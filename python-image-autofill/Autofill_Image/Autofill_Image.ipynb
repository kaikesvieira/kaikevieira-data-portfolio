{
 "cells": [
  {
   "cell_type": "markdown",
   "metadata": {},
   "source": [
    "# **Autofill Certificate, Gift Card or whatever IMAGE you want!**"
   ]
  },
  {
   "cell_type": "markdown",
   "metadata": {},
   "source": [
    "- Importing proper packages"
   ]
  },
  {
   "cell_type": "code",
   "execution_count": 52,
   "metadata": {},
   "outputs": [],
   "source": [
    "import openpyxl\n",
    "from PIL import Image, ImageDraw, ImageFont"
   ]
  },
  {
   "cell_type": "markdown",
   "metadata": {},
   "source": [
    "- Opening the `Gift List`"
   ]
  },
  {
   "cell_type": "code",
   "execution_count": 53,
   "metadata": {},
   "outputs": [],
   "source": [
    "workbook_gift = openpyxl.load_workbook('gift_list.xlsx')\n",
    "gift_data = workbook_gift['Sheet1']"
   ]
  },
  {
   "cell_type": "markdown",
   "metadata": {},
   "source": [
    "- The part of the code below, will take the values of each row of the `gift_list`, draw the values on the `Gift_Certificate` and then save it as a new `.png` file."
   ]
  },
  {
   "cell_type": "code",
   "execution_count": 55,
   "metadata": {},
   "outputs": [],
   "source": [
    "# indexing each line of the Excel file\n",
    "\n",
    "for index, line in enumerate(gift_data.iter_rows(min_row=2)):\n",
    "    to_name = line[1].value\n",
    "    from_name = line[2].value\n",
    "    amount = line[3].value\n",
    "    valid_until = str(line[4].value) # here I decided to turn the date a str, otherwise I would have problems slicing or iterating it\n",
    "\n",
    "    # addressing the font variables and their sizes\n",
    "\n",
    "    font_name = ImageFont.truetype('./tahomabd.ttf', 90)\n",
    "    font = ImageFont.truetype('./tahoma.ttf', 80)\n",
    "    font_date = ImageFont.truetype('./tahoma.ttf', 60)\n",
    "\n",
    "    gift_cert = Image.open('./Gift_Certificate.png')\n",
    "    draw = ImageDraw.Draw(gift_cert)\n",
    "\n",
    "    # to make it easy finding the right coordinate, I suggest open the image on Paint. The coordinates will appear on the bottom left\n",
    "\n",
    "    draw.text((360, 440), to_name, fill='black', font=font_name)\n",
    "    draw.text((425, 575), from_name, fill='black', font=font)\n",
    "    draw.text((500, 690), str(f'${amount}'), fill='black', font=font)\n",
    "    draw.text((375, 1050), valid_until[:10], fill='black', font=font_date)\n",
    "\n",
    "    # saving the image as a new file with distinct names\n",
    "\n",
    "    gift_cert.save(f'./{index}_{to_name}.png')"
   ]
  }
 ],
 "metadata": {
  "kernelspec": {
   "display_name": ".venv",
   "language": "python",
   "name": "python3"
  },
  "language_info": {
   "codemirror_mode": {
    "name": "ipython",
    "version": 3
   },
   "file_extension": ".py",
   "mimetype": "text/x-python",
   "name": "python",
   "nbconvert_exporter": "python",
   "pygments_lexer": "ipython3",
   "version": "3.12.1"
  }
 },
 "nbformat": 4,
 "nbformat_minor": 2
}
